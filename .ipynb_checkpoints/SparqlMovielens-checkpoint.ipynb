{
 "cells": [
  {
   "cell_type": "code",
   "execution_count": 3,
   "metadata": {},
   "outputs": [],
   "source": [
    "from SPARQLWrapper import SPARQLWrapper, JSON"
   ]
  },
  {
   "cell_type": "code",
   "execution_count": 23,
   "metadata": {},
   "outputs": [
    {
     "data": {
      "text/plain": [
       "'Titanic'"
      ]
     },
     "execution_count": 23,
     "metadata": {},
     "output_type": "execute_result"
    }
   ],
   "source": [
    "search = 'Titanic'\n",
    "search = search.replace(' ', '_')\n",
    "sparql = SPARQLWrapper(\"http://dbpedia.org/sparql\")\n",
    "search"
   ]
  },
  {
   "cell_type": "code",
   "execution_count": 24,
   "metadata": {},
   "outputs": [
    {
     "name": "stdout",
     "output_type": "stream",
     "text": [
      "====================== {'head': {'link': [], 'vars': ['name', 'abstract', 'alternateTitle']}, 'results': {'distinct': False, 'ordered': True, 'bindings': [{'name': {'type': 'literal', 'xml:lang': 'en', 'value': 'Titanic'}, 'abstract': {'type': 'literal', 'xml:lang': 'en', 'value': \"Titanic is a 1997 American epic romance-disaster film directed, written, co-produced, and co-edited by James Cameron. A fictionalized account of the sinking of the RMS Titanic, it stars Leonardo DiCaprio and Kate Winslet as members of different social classes who fall in love aboard the ship during its ill-fated maiden voyage. Cameron's inspiration for the film came from his fascination with shipwrecks; he felt a love story interspersed with the human loss would be essential to convey the emotional impact of the disaster. Production began in 1995, when Cameron shot footage of the actual Titanic wreck. The modern scenes on the research vessel were shot on board the Akademik Mstislav Keldysh, which Cameron had used as a base when filming the wreck. Scale models, computer-generated imagery, and a reconstruction of the Titanic built at Playas de Rosarito in Baja California were used to re-create the sinking. The film was partially funded by Paramount Pictures and 20th Century Fox. It was the most expensive film made at that time, with an estimated budget of $200 million. Upon its release on December 19, 1997, Titanic achieved critical and commercial success. Nominated for fourteen Academy Awards, it tied with All About Eve (1950) for the most Oscar nominations, and won eleven, including the awards for Best Picture and Best Director, tying Ben Hur (1959) for the most Oscars won by a single film. With an initial worldwide gross of over $1.84 billion, Titanic was the first film to reach the billion-dollar mark. It remained the highest-grossing film of all time until Cameron's 2009 film Avatar surpassed it in 2010. A 3D version of Titanic, released on April 4, 2012 to commemorate the centennial of the sinking, earned it an additional $343.6 million worldwide, pushing the film's worldwide total to $2.18 billion. It became the second film to gross more than $2 billion worldwide (after Avatar).\"}}, {'name': {'type': 'literal', 'xml:lang': 'en', 'value': 'Titanic'}, 'abstract': {'type': 'literal', 'xml:lang': 'en', 'value': 'Titanic is a 1915 Italian silent film directed by Pier Angelo Mazzolotti and starring Mario Bonnard, Giovanni Casaleggio and Pierino Chiesa. Despite its title, the film is not about the Sinking of the RMS Titanic but the discovery of a mineral of the same name.'}}, {'name': {'type': 'literal', 'xml:lang': 'en', 'value': 'Titanic'}, 'abstract': {'type': 'literal', 'xml:lang': 'en', 'value': 'Titanic is a 1943 German propaganda film made during World War II in Berlin by Tobis Productions for UFA. Despite the fact that a British company had already released a German-language film about the RMS Titanic, the film was commissioned by Nazi Propaganda Minister Joseph Goebbels with the intent of showing not only the superiority of German filmmaking, but also as a propaganda vehicle which would show that British and American capitalism was responsible for the disaster. The addition of an entirely fictional heroic German officer to the ship\\'s crew was intended to demonstrate the superior bravery and selflessness of German men as compared to the British officers. The film\\'s original director, Herbert Selpin, was arrested during production after speaking out against the Nazi regime – he was later found hanged in prison – and the film was completed by Werner Klingler, who was not credited. Although the film had a brief theatrical run in parts of German-occupied Europe starting in November 1943, it was not shown within Germany by order of Goebbels, who feared that it would weaken the German citizenry\\'s morale instead of improving it. Goebbels later banned the playing of the film entirely, and it did not have a second run. The \"Nazi Titanic\" film was the first on the subject which was simply titled Titanic, and the first to combine various fictional characters and subplots with historical personae and events of the sinking; both conventions went on to become a staple of Titanic films.'}}, {'name': {'type': 'literal', 'xml:lang': 'en', 'value': 'Titanic'}, 'abstract': {'type': 'literal', 'xml:lang': 'en', 'value': 'Titanic is a 1953 American drama film directed by Jean Negulesco. Its plot centers on an estranged couple sailing on the ill-fated maiden voyage of the RMS Titanic, which took place in April 1912.'}}, {'name': {'type': 'literal', 'xml:lang': 'en', 'value': 'Titanic'}, 'abstract': {'type': 'literal', 'xml:lang': 'en', 'value': 'Titanic is a made-for-TV dramatization that premiered as a 2-part miniseries on CBS in 1996. Titanic follows several characters on board the RMS Titanic when she sinks on her maiden voyage in 1912. The miniseries was directed by Robert Lieberman. The original music score was composed by Lennie Niehaus.'}}]}}\n"
     ]
    }
   ],
   "source": [
    "''' Consulta original, utilizada no trabalho da disciplina MATC93\n",
    "\n",
    "PREFIX foaf: <http://xmlns.com/foaf/0.1/>\n",
    "PREFIX dbpedia-owl: <http://dbpedia.org/ontology/>\n",
    "PREFIX dbpprop: <http://dbpedia.org/property/>\n",
    "\n",
    "SELECT DISTINCT \n",
    "    ?name \n",
    "    ?country \n",
    "    ?abstract \n",
    "    ?budget  \n",
    "    ?releaseDate \n",
    "    ?runtime \n",
    "    ?alternateTitle\n",
    "\n",
    "WHERE {\n",
    "    ?instance a <http://dbpedia.org/ontology/Film>.\n",
    "    ?instance foaf:name ?name .\n",
    "    FILTER REGEX (?name, '^\"\"\" + search + \"\"\"$', 'i').\n",
    "\n",
    "    OPTIONAL {\n",
    "        ?instance dbpprop:country ?country\n",
    "    }\n",
    "    OPTIONAL {\n",
    "        ?instance dbpedia-owl:abstract ?abstract .\n",
    "        FILTER (LANG(?abstract) = 'en').\n",
    "    }\n",
    "    OPTIONAL {\n",
    "        ?instance dbpedia-owl:budget ?budget\n",
    "    }\n",
    "    OPTIONAL {\n",
    "        ?instance dbpedia-owl:releaseDate ?releaseDate\n",
    "    }\n",
    "    OPTIONAL {\n",
    "        ?instance dbpedia-owl:runtime ?runtime\n",
    "    }\n",
    "    OPTIONAL {\n",
    "        ?instance dbpprop:alternateTitle ?alternateTitle\n",
    "    }\n",
    "}\n",
    "'''\n",
    "\n",
    "sparql.setQuery(\"\"\"\n",
    "\n",
    "        PREFIX foaf: <http://xmlns.com/foaf/0.1/>\n",
    "        PREFIX dbpedia-owl: <http://dbpedia.org/ontology/>\n",
    "        PREFIX dbpprop: <http://dbpedia.org/property/>\n",
    "\n",
    "        SELECT DISTINCT \n",
    "            ?name\n",
    "            ?abstract\n",
    "            ?alternateTitle\n",
    "\n",
    "        WHERE {\n",
    "            ?instance a <http://dbpedia.org/ontology/Film>.\n",
    "            ?instance foaf:name ?name .\n",
    "            FILTER REGEX (?name, '^\"\"\" + search + \"\"\"$', 'i').\n",
    "            OPTIONAL {\n",
    "                ?instance dbpedia-owl:abstract ?abstract .\n",
    "                FILTER (LANG(?abstract) = 'en').\n",
    "            }\n",
    "            OPTIONAL {\n",
    "                ?instance dbpprop:alternateTitle ?alternateTitle\n",
    "            }\n",
    "        }\n",
    "\"\"\")\n",
    "\n",
    "sparql.setReturnFormat(JSON)\n",
    "results = sparql.query().convert()\n",
    "# print(\"======================\", results)"
   ]
  },
  {
   "cell_type": "code",
   "execution_count": null,
   "metadata": {},
   "outputs": [],
   "source": []
  },
  {
   "cell_type": "code",
   "execution_count": 27,
   "metadata": {},
   "outputs": [
    {
     "name": "stdout",
     "output_type": "stream",
     "text": [
      "Titanic is a 1997 American epic romance-disaster film directed, written, co-produced, and co-edited by James Cameron. A fictionalized account of the sinking of the RMS Titanic, it stars Leonardo DiCaprio and Kate Winslet as members of different social classes who fall in love aboard the ship during its ill-fated maiden voyage. Cameron's inspiration for the film came from his fascination with shipwrecks; he felt a love story interspersed with the human loss would be essential to convey the emotional impact of the disaster. Production began in 1995, when Cameron shot footage of the actual Titanic wreck. The modern scenes on the research vessel were shot on board the Akademik Mstislav Keldysh, which Cameron had used as a base when filming the wreck. Scale models, computer-generated imagery, and a reconstruction of the Titanic built at Playas de Rosarito in Baja California were used to re-create the sinking. The film was partially funded by Paramount Pictures and 20th Century Fox. It was the most expensive film made at that time, with an estimated budget of $200 million. Upon its release on December 19, 1997, Titanic achieved critical and commercial success. Nominated for fourteen Academy Awards, it tied with All About Eve (1950) for the most Oscar nominations, and won eleven, including the awards for Best Picture and Best Director, tying Ben Hur (1959) for the most Oscars won by a single film. With an initial worldwide gross of over $1.84 billion, Titanic was the first film to reach the billion-dollar mark. It remained the highest-grossing film of all time until Cameron's 2009 film Avatar surpassed it in 2010. A 3D version of Titanic, released on April 4, 2012 to commemorate the centennial of the sinking, earned it an additional $343.6 million worldwide, pushing the film's worldwide total to $2.18 billion. It became the second film to gross more than $2 billion worldwide (after Avatar).\n"
     ]
    }
   ],
   "source": [
    "if len(results['results']['bindings']) is not 0:\n",
    "    if len(results['results']['bindings'][0]['abstract']) is not 0:\n",
    "        print(results['results']['bindings'][0]['abstract']['value'])\n",
    "    else:\n",
    "        print('Filme encontrado na DBpedia, porém sem ABSTRACT.')\n",
    "else:\n",
    "    print('Filme não encontrado na DBpedia pelo título.')"
   ]
  },
  {
   "cell_type": "code",
   "execution_count": null,
   "metadata": {},
   "outputs": [],
   "source": []
  },
  {
   "cell_type": "code",
   "execution_count": null,
   "metadata": {},
   "outputs": [],
   "source": []
  }
 ],
 "metadata": {
  "kernelspec": {
   "display_name": "Python 3",
   "language": "python",
   "name": "python3"
  },
  "language_info": {
   "codemirror_mode": {
    "name": "ipython",
    "version": 3
   },
   "file_extension": ".py",
   "mimetype": "text/x-python",
   "name": "python",
   "nbconvert_exporter": "python",
   "pygments_lexer": "ipython3",
   "version": "3.6.7"
  }
 },
 "nbformat": 4,
 "nbformat_minor": 2
}
